{
 "cells": [
  {
   "cell_type": "code",
   "execution_count": 1,
   "id": "b148f904-0926-4b40-a200-8b52be2b862e",
   "metadata": {},
   "outputs": [
    {
     "name": "stdout",
     "output_type": "stream",
     "text": [
      "amilase\n"
     ]
    }
   ],
   "source": [
    "import io\n",
    "import re\n",
    "import os\n",
    "text = io.open('text/pt-wordlist.txt', encoding=\"utf8\").read()\n",
    "text = text.split('\\n')\n",
    "len(text)\n",
    "print(text[0])"
   ]
  },
  {
   "cell_type": "code",
   "execution_count": 2,
   "id": "3db27c47-5dd4-4343-b82f-2c53cd5f6afa",
   "metadata": {},
   "outputs": [],
   "source": [
    "def getox(text):\n",
    "    r = re.compile(\"^([A-zÀ-úç-]*-)*[A-zç]*((á|í|ú)s?|(é|ó)(s|i)?|ás?|é(ns|m|u)|ã(s|o|os)?|õ(s|e|es)?|(ú|í)(m|n)?|(i|u)(m|n)|r|l|z|x)(-(lo|la)s?)?$\")\n",
    "    ox = list(filter(r.match, text))\n",
    "    return ox"
   ]
  },
  {
   "cell_type": "code",
   "execution_count": 3,
   "id": "c47e585e-4cb5-4e2e-90a1-8a40b5626960",
   "metadata": {},
   "outputs": [
    {
     "name": "stdout",
     "output_type": "stream",
     "text": [
      "Aaiún\n"
     ]
    }
   ],
   "source": [
    "ox = getox(text)\n",
    "print(ox[0])"
   ]
  },
  {
   "cell_type": "code",
   "execution_count": 4,
   "id": "bef9c6f7-01cb-4c49-8731-56adedac93eb",
   "metadata": {},
   "outputs": [],
   "source": [
    "def getprop(text):\n",
    "    r = re.compile(\"^[A-zÀ-úç-]*[À-ú][bcdfghjklmnpqrstvwxysç]+[aeiouy]+[bcdfghjklmnpqrstvwxysç]+[aeiouyãõ]+s?$\")\n",
    "    prop = list(filter(r.match, text))\n",
    "    return prop"
   ]
  },
  {
   "cell_type": "code",
   "execution_count": 5,
   "id": "d0db1719-0de8-477f-9c2c-23fab08e6d24",
   "metadata": {},
   "outputs": [
    {
     "data": {
      "text/plain": [
       "43338"
      ]
     },
     "execution_count": 5,
     "metadata": {},
     "output_type": "execute_result"
    }
   ],
   "source": [
    "prop = getprop(text)\n",
    "len(prop)"
   ]
  },
  {
   "cell_type": "code",
   "execution_count": 6,
   "id": "8b0ddc1c-571d-4a3d-a54e-46e8104222a1",
   "metadata": {},
   "outputs": [],
   "source": [
    "def getpar(text):\n",
    "    ox = re.compile(\"^([A-zÀ-úç-]*-)*[A-zç]*((á|í|ú)s?|(é|ó)(s|i)?|ás?|é(ns|m|u)|ã(s|o|os)?|õ(s|e|es)?|(i|u|ú|í)(m|n)?|r|l|z|x)(-(lo|la)s?)?$\")\n",
    "    prop = re.compile(\"^^[A-zÀ-úç-]*[À-ú][bcdfghjklmnpqrstvwxysç]+[aeiouy]+[bcdfghjklmnpqrstvwxysç]+[aeiouyãõ]+s?$\")\n",
    "    par = [w for w in text if not (ox.match(w) or prop.match(w))]\n",
    "    return par"
   ]
  },
  {
   "cell_type": "code",
   "execution_count": 7,
   "id": "1be44522-f50d-4ee5-9ee3-68d86cd10ed9",
   "metadata": {},
   "outputs": [
    {
     "data": {
      "text/plain": [
       "210593"
      ]
     },
     "execution_count": 7,
     "metadata": {},
     "output_type": "execute_result"
    }
   ],
   "source": [
    "par = getpar(text)\n",
    "len(par)"
   ]
  },
  {
   "cell_type": "code",
   "execution_count": 8,
   "id": "77ee98b9-2408-4d31-99fe-901a7be181c0",
   "metadata": {},
   "outputs": [],
   "source": [
    "filenames = next(os.walk('text'), (None, None, []))[2]\n",
    "for file in filenames:\n",
    "    text = io.open('text/'+file, encoding=\"utf8\").read().split('\\n')\n",
    "    ox = getox(text)\n",
    "    prop = getprop(text)\n",
    "    par = getpar(text)\n",
    "    with open('result/ox_'+file, 'w',encoding=\"utf8\") as f:\n",
    "        f.write(\"\\n\".join(ox))\n",
    "    with open('result/prop_'+file, 'w',encoding=\"utf8\") as f:\n",
    "        f.write(\"\\n\".join(prop))\n",
    "    with open('result/par_'+file, 'w',encoding=\"utf8\") as f:\n",
    "        f.write(\"\\n\".join(par))"
   ]
  },
  {
   "cell_type": "code",
   "execution_count": null,
   "id": "fe10e601-7a63-41e4-946f-8775536963a4",
   "metadata": {},
   "outputs": [],
   "source": []
  },
  {
   "cell_type": "code",
   "execution_count": null,
   "id": "f2b6adeb-85d0-47b1-af5f-24698a584ef5",
   "metadata": {},
   "outputs": [],
   "source": []
  },
  {
   "cell_type": "code",
   "execution_count": null,
   "id": "2cf720a7-e808-4552-a647-f796175246ef",
   "metadata": {},
   "outputs": [],
   "source": []
  },
  {
   "cell_type": "code",
   "execution_count": null,
   "id": "71e5e84e-ada6-41f7-a5a8-2e450b6d7d92",
   "metadata": {},
   "outputs": [],
   "source": []
  }
 ],
 "metadata": {
  "kernelspec": {
   "display_name": "Python 3 (ipykernel)",
   "language": "python",
   "name": "python3"
  },
  "language_info": {
   "codemirror_mode": {
    "name": "ipython",
    "version": 3
   },
   "file_extension": ".py",
   "mimetype": "text/x-python",
   "name": "python",
   "nbconvert_exporter": "python",
   "pygments_lexer": "ipython3",
   "version": "3.10.6"
  }
 },
 "nbformat": 4,
 "nbformat_minor": 5
}
